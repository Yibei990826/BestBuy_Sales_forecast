{
 "cells": [
  {
   "cell_type": "code",
   "execution_count": 1,
   "metadata": {},
   "outputs": [
    {
     "name": "stdout",
     "output_type": "stream",
     "text": [
      "/Users/yibeihu/BestBuy_sales_forecast\r\n"
     ]
    }
   ],
   "source": [
    "!pwd"
   ]
  },
  {
   "cell_type": "code",
   "execution_count": 30,
   "metadata": {},
   "outputs": [],
   "source": [
    "import sys\n",
    "import matplotlib\n",
    "import numpy as np\n",
    "import pandas as pd\n",
    "import matplotlib.pyplot as plt\n",
    "import datetime\n",
    "\n",
    "sys.version\n",
    "sys.path.append(\"../../\")\n",
    "\n",
    "from src.hmm import sku_predict\n",
    "from src.utils import *\n",
    "import pickle\n",
    "import itertools\n",
    "\n",
    "from tqdm import tqdm\n",
    "from IPython.utils import io\n",
    "from joblib import Parallel, delayed\n",
    "\n",
    "pd.options.mode.chained_assignment = None"
   ]
  },
  {
   "cell_type": "markdown",
   "metadata": {},
   "source": [
    "## Get all SKUs using HMM"
   ]
  },
  {
   "cell_type": "code",
   "execution_count": 6,
   "metadata": {},
   "outputs": [],
   "source": [
    "with open('./data/final_sku_model_map.pkl', 'rb') as handle:\n",
    "    sku_period_dict1 = pickle.load(handle)"
   ]
  },
  {
   "cell_type": "code",
   "execution_count": 8,
   "metadata": {},
   "outputs": [],
   "source": [
    "# extract SKU keys using HMM model to forecast\n",
    "hmm_keys = ['rmse_du_15', 'rmse_du_30', 'rmse_du_45', 'rmse_du_60', 'rmse_du_90', 'rmse_du_max']\n",
    "hmm_skus = [sku_period_dict1[sub_model] for sub_model in hmm_keys]\n",
    "hmm_skus = list(itertools.chain.from_iterable(hmm_skus))\n",
    "\n",
    "hmm_skus = list(set(hmm_skus))"
   ]
  },
  {
   "cell_type": "markdown",
   "metadata": {},
   "source": [
    "## Prepare Data for training"
   ]
  },
  {
   "cell_type": "code",
   "execution_count": 12,
   "metadata": {},
   "outputs": [],
   "source": [
    "# Load in data for training\n",
    "original_train = pd.read_csv(\"./data/train_validation_marker.csv\")\n",
    "original_train[\"SALES_DATE\"] = pd.to_datetime(original_train[\"SALES_DATE\"])"
   ]
  },
  {
   "cell_type": "code",
   "execution_count": 17,
   "metadata": {},
   "outputs": [
    {
     "data": {
      "text/plain": [
       "Text(0, 0.5, '# SKU')"
      ]
     },
     "execution_count": 17,
     "metadata": {},
     "output_type": "execute_result"
    },
    {
     "data": {
      "image/png": "[encoded data removed]",
      "text/plain": [
       "<Figure size 432x288 with 1 Axes>"
      ]
     },
     "metadata": {
      "needs_background": "light"
     },
     "output_type": "display_data"
    }
   ],
   "source": [
    "# Using a 90 day for HMM training.\n",
    "sku_in_scope = original_train[(original_train.Encoded_SKU_ID.isin(hmm_skus)) &(original_train.SALES_DATE>=\"2022-03-15\"\\\n",
    "                         )].groupby(\"Encoded_SKU_ID\")[\"DAILY_UNITS\"].nunique()\n",
    "\n",
    "sku_in_scope.hist()\n",
    "plt.title('Unique Sales Values Presented by Each SKU')\n",
    "plt.xlabel('# unique value')\n",
    "plt.ylabel('# SKU')"
   ]
  },
  {
   "cell_type": "markdown",
   "metadata": {},
   "source": [
    "## Test Using 1 SKU"
   ]
  },
  {
   "cell_type": "code",
   "execution_count": 19,
   "metadata": {},
   "outputs": [],
   "source": [
    "# Construct a dummy df validation set\n",
    "date_range = pd.date_range(start='08/01/2022', end='08/07/2022')\n",
    "dummy_forecast = pd.DataFrame(index=date_range)"
   ]
  },
  {
   "cell_type": "code",
   "execution_count": 31,
   "metadata": {},
   "outputs": [
    {
     "name": "stdout",
     "output_type": "stream",
     "text": [
      "Created 2 lag features\n",
      "Training on : ['DAILY_UNITS_lag1', 'DAILY_UNITS_lag2'] ['change_lag1', 'change_lag2']\n"
     ]
    }
   ],
   "source": [
    "#Specify the SKU and # of Gaussian Mixtures to construct model\n",
    "sku_id = 1\n",
    "n_comps = max(sku_in_scope[sku_id],10) #Limit to max 10 components\n",
    "\n",
    "#Initialize the model parameters\n",
    "sku_pred_model = sku_predict(original_train, sku_id)\n",
    "\n",
    "#train the model for this SKU\n",
    "feats_sku = sku_pred_model.get_features(n_lags=2)\n",
    "train1, _ = sku_pred_model.split_train_test(\"2022-07-31\")\n",
    "valid1 = dummy_forecast\n",
    "sku_pred_model.fit_hmm(train1, \"2022-03-01\", n_components1=n_comps)"
   ]
  },
  {
   "cell_type": "code",
   "execution_count": 32,
   "metadata": {},
   "outputs": [
    {
     "name": "stdout",
     "output_type": "stream",
     "text": [
      "Starting Prediction\n",
      "-----> Predicting for day:0\n"
     ]
    },
    {
     "name": "stderr",
     "output_type": "stream",
     "text": [
      "Even though the 'startprob_' attribute is set, it will be overwritten during initialization because 'init_params' contains 's'\n",
      "Even though the 'transmat_' attribute is set, it will be overwritten during initialization because 'init_params' contains 't'\n",
      "Fitting a model with 179 free scalar parameters with only 60 data points will result in a degenerate solution.\n",
      "Even though the 'means_' attribute is set, it will be overwritten during initialization because 'init_params' contains 'm'\n",
      "Even though the 'covars_' attribute is set, it will be overwritten during initialization because 'init_params' contains 'c'\n"
     ]
    },
    {
     "name": "stdout",
     "output_type": "stream",
     "text": [
      "-----> Predicting for day:1\n"
     ]
    },
    {
     "name": "stderr",
     "output_type": "stream",
     "text": [
      "Even though the 'startprob_' attribute is set, it will be overwritten during initialization because 'init_params' contains 's'\n",
      "Even though the 'transmat_' attribute is set, it will be overwritten during initialization because 'init_params' contains 't'\n",
      "Fitting a model with 179 free scalar parameters with only 60 data points will result in a degenerate solution.\n",
      "Even though the 'means_' attribute is set, it will be overwritten during initialization because 'init_params' contains 'm'\n",
      "Even though the 'covars_' attribute is set, it will be overwritten during initialization because 'init_params' contains 'c'\n"
     ]
    },
    {
     "name": "stdout",
     "output_type": "stream",
     "text": [
      "-----> Predicting for day:2\n"
     ]
    },
    {
     "name": "stderr",
     "output_type": "stream",
     "text": [
      "Even though the 'startprob_' attribute is set, it will be overwritten during initialization because 'init_params' contains 's'\n",
      "Even though the 'transmat_' attribute is set, it will be overwritten during initialization because 'init_params' contains 't'\n",
      "Fitting a model with 179 free scalar parameters with only 60 data points will result in a degenerate solution.\n",
      "Even though the 'means_' attribute is set, it will be overwritten during initialization because 'init_params' contains 'm'\n",
      "Even though the 'covars_' attribute is set, it will be overwritten during initialization because 'init_params' contains 'c'\n"
     ]
    },
    {
     "name": "stdout",
     "output_type": "stream",
     "text": [
      "-----> Predicting for day:3\n"
     ]
    },
    {
     "name": "stderr",
     "output_type": "stream",
     "text": [
      "Even though the 'startprob_' attribute is set, it will be overwritten during initialization because 'init_params' contains 's'\n",
      "Even though the 'transmat_' attribute is set, it will be overwritten during initialization because 'init_params' contains 't'\n",
      "Fitting a model with 179 free scalar parameters with only 60 data points will result in a degenerate solution.\n",
      "Even though the 'means_' attribute is set, it will be overwritten during initialization because 'init_params' contains 'm'\n",
      "Even though the 'covars_' attribute is set, it will be overwritten during initialization because 'init_params' contains 'c'\n"
     ]
    },
    {
     "name": "stdout",
     "output_type": "stream",
     "text": [
      "-----> Predicting for day:4\n"
     ]
    },
    {
     "name": "stderr",
     "output_type": "stream",
     "text": [
      "Even though the 'startprob_' attribute is set, it will be overwritten during initialization because 'init_params' contains 's'\n",
      "Even though the 'transmat_' attribute is set, it will be overwritten during initialization because 'init_params' contains 't'\n",
      "Fitting a model with 179 free scalar parameters with only 60 data points will result in a degenerate solution.\n",
      "Even though the 'means_' attribute is set, it will be overwritten during initialization because 'init_params' contains 'm'\n",
      "Even though the 'covars_' attribute is set, it will be overwritten during initialization because 'init_params' contains 'c'\n"
     ]
    },
    {
     "name": "stdout",
     "output_type": "stream",
     "text": [
      "-----> Predicting for day:5\n"
     ]
    },
    {
     "name": "stderr",
     "output_type": "stream",
     "text": [
      "Even though the 'startprob_' attribute is set, it will be overwritten during initialization because 'init_params' contains 's'\n",
      "Even though the 'transmat_' attribute is set, it will be overwritten during initialization because 'init_params' contains 't'\n",
      "Fitting a model with 179 free scalar parameters with only 60 data points will result in a degenerate solution.\n",
      "Even though the 'means_' attribute is set, it will be overwritten during initialization because 'init_params' contains 'm'\n",
      "Even though the 'covars_' attribute is set, it will be overwritten during initialization because 'init_params' contains 'c'\n"
     ]
    },
    {
     "name": "stdout",
     "output_type": "stream",
     "text": [
      "-----> Predicting for day:6\n"
     ]
    },
    {
     "data": {
      "text/html": [
       "<div>\n",
       "<style scoped>\n",
       "    .dataframe tbody tr th:only-of-type {\n",
       "        vertical-align: middle;\n",
       "    }\n",
       "\n",
       "    .dataframe tbody tr th {\n",
       "        vertical-align: top;\n",
       "    }\n",
       "\n",
       "    .dataframe thead th {\n",
       "        text-align: right;\n",
       "    }\n",
       "</style>\n",
       "<table border=\"1\" class=\"dataframe\">\n",
       "  <thead>\n",
       "    <tr style=\"text-align: right;\">\n",
       "      <th></th>\n",
       "      <th>DAILY_UNITS_lag1</th>\n",
       "      <th>DAILY_UNITS_lag2</th>\n",
       "      <th>change_lag1</th>\n",
       "      <th>change_lag2</th>\n",
       "      <th>predicted1</th>\n",
       "      <th>predicted2</th>\n",
       "      <th>predicted</th>\n",
       "    </tr>\n",
       "  </thead>\n",
       "  <tbody>\n",
       "    <tr>\n",
       "      <th>2022-08-01</th>\n",
       "      <td>1.0</td>\n",
       "      <td>1.0</td>\n",
       "      <td>0.0</td>\n",
       "      <td>0.0</td>\n",
       "      <td>1.0</td>\n",
       "      <td>1.0</td>\n",
       "      <td>1.00</td>\n",
       "    </tr>\n",
       "    <tr>\n",
       "      <th>2022-08-02</th>\n",
       "      <td>0.0</td>\n",
       "      <td>1.0</td>\n",
       "      <td>2.0</td>\n",
       "      <td>1.0</td>\n",
       "      <td>2.0</td>\n",
       "      <td>2.0</td>\n",
       "      <td>2.00</td>\n",
       "    </tr>\n",
       "    <tr>\n",
       "      <th>2022-08-03</th>\n",
       "      <td>2.0</td>\n",
       "      <td>0.0</td>\n",
       "      <td>-1.0</td>\n",
       "      <td>1.0</td>\n",
       "      <td>1.0</td>\n",
       "      <td>1.0</td>\n",
       "      <td>1.00</td>\n",
       "    </tr>\n",
       "    <tr>\n",
       "      <th>2022-08-04</th>\n",
       "      <td>2.0</td>\n",
       "      <td>2.0</td>\n",
       "      <td>-1.0</td>\n",
       "      <td>-2.0</td>\n",
       "      <td>1.0</td>\n",
       "      <td>0.0</td>\n",
       "      <td>0.55</td>\n",
       "    </tr>\n",
       "    <tr>\n",
       "      <th>2022-08-05</th>\n",
       "      <td>0.0</td>\n",
       "      <td>1.0</td>\n",
       "      <td>0.0</td>\n",
       "      <td>-1.0</td>\n",
       "      <td>0.0</td>\n",
       "      <td>0.0</td>\n",
       "      <td>0.00</td>\n",
       "    </tr>\n",
       "    <tr>\n",
       "      <th>2022-08-06</th>\n",
       "      <td>0.0</td>\n",
       "      <td>0.0</td>\n",
       "      <td>0.0</td>\n",
       "      <td>0.0</td>\n",
       "      <td>0.0</td>\n",
       "      <td>0.0</td>\n",
       "      <td>0.00</td>\n",
       "    </tr>\n",
       "    <tr>\n",
       "      <th>2022-08-07</th>\n",
       "      <td>0.0</td>\n",
       "      <td>0.0</td>\n",
       "      <td>1.0</td>\n",
       "      <td>1.0</td>\n",
       "      <td>1.0</td>\n",
       "      <td>1.0</td>\n",
       "      <td>1.00</td>\n",
       "    </tr>\n",
       "  </tbody>\n",
       "</table>\n",
       "</div>"
      ],
      "text/plain": [
       "            DAILY_UNITS_lag1  DAILY_UNITS_lag2  change_lag1  change_lag2  \\\n",
       "2022-08-01               1.0               1.0          0.0          0.0   \n",
       "2022-08-02               0.0               1.0          2.0          1.0   \n",
       "2022-08-03               2.0               0.0         -1.0          1.0   \n",
       "2022-08-04               2.0               2.0         -1.0         -2.0   \n",
       "2022-08-05               0.0               1.0          0.0         -1.0   \n",
       "2022-08-06               0.0               0.0          0.0          0.0   \n",
       "2022-08-07               0.0               0.0          1.0          1.0   \n",
       "\n",
       "            predicted1  predicted2  predicted  \n",
       "2022-08-01         1.0         1.0       1.00  \n",
       "2022-08-02         2.0         2.0       2.00  \n",
       "2022-08-03         1.0         1.0       1.00  \n",
       "2022-08-04         1.0         0.0       0.55  \n",
       "2022-08-05         0.0         0.0       0.00  \n",
       "2022-08-06         0.0         0.0       0.00  \n",
       "2022-08-07         1.0         1.0       1.00  "
      ]
     },
     "execution_count": 32,
     "metadata": {},
     "output_type": "execute_result"
    }
   ],
   "source": [
    "sku_pred_model.predict(valid1, 15)"
   ]
  },
  {
   "cell_type": "markdown",
   "metadata": {},
   "source": [
    "## Parallel training for Batch"
   ]
  },
  {
   "cell_type": "code",
   "execution_count": 26,
   "metadata": {},
   "outputs": [],
   "source": [
    "# Create an error df to store error values\n",
    "date_range = pd.date_range(start='08/01/2022', end='08/07/2022')\n",
    "error_prediction = pd.DataFrame(index=date_range)\n",
    "error_prediction[\"predicted\"] = np.nan\n",
    "# error_prediction"
   ]
  },
  {
   "cell_type": "code",
   "execution_count": 27,
   "metadata": {},
   "outputs": [],
   "source": [
    "def parallel_hmm_function(sku_id):\n",
    "    n_comps = max(sku_in_scope[sku_id],10) #Limit to max 10 components\n",
    "    sku_pred_model = sku_predict(original_train, sku_id)\n",
    "    with io.capture_output() as captured:\n",
    "        feats_sku = sku_pred_model.get_features(n_lags=2)\n",
    "        train1, _ = sku_pred_model.split_train_test(\"2022-07-31\")\n",
    "        valid1 = dummy_forecast\n",
    "        sku_pred_model.fit_hmm(train1, \"2022-03-01\", n_components1=n_comps)\n",
    "        try:\n",
    "            sku_pred_15 = sku_pred_model.predict(valid1, 15)\n",
    "        except:\n",
    "            sku_pred_15 = error_prediction\n",
    "            print(f\"Error for {sku_id} 15\")\n",
    "        try:\n",
    "            sku_pred_30 = sku_pred_model.predict(valid1, 30)\n",
    "        except:\n",
    "            sku_pred_30 = error_prediction\n",
    "            print(f\"Error for {sku_id} 30\")\n",
    "        try:\n",
    "            sku_pred_45 = sku_pred_model.predict(valid1, 45)\n",
    "        except:\n",
    "            sku_pred_45 = error_prediction\n",
    "            print(f\"Error for {sku_id} 45\")\n",
    "        try:\n",
    "            sku_pred_60 = sku_pred_model.predict(valid1, 60)\n",
    "        except:\n",
    "            sku_pred_60 = error_prediction\n",
    "            print(f\"Error for {sku_id} 60\")\n",
    "        try:\n",
    "            sku_pred_90 = sku_pred_model.predict(valid1, 90)\n",
    "        except:\n",
    "            sku_pred_90 = error_prediction\n",
    "            print(f\"Error for {sku_id} 90\")\n",
    "        try:\n",
    "            sku_pred_max = sku_pred_model.predict(valid1, sku_pred_model.X.shape[0])\n",
    "        except:\n",
    "            sku_pred_max = error_prediction\n",
    "            print(f\"Error for {sku_id} max\")\n",
    "        merge0 = sku_pred_15[[\"predicted\"]].merge(sku_pred_30[[\"predicted\"]], left_index=True, \\\n",
    "                                                  right_index=True, suffixes=(\"\", \"_30\"))\n",
    "        merge1 = merge0.merge(sku_pred_45[[\"predicted\"]], left_index=True, \\\n",
    "                              right_index=True, suffixes=(\"\", \"_45\"))\n",
    "        merge2 = merge1.merge(sku_pred_60[[\"predicted\"]], left_index=True, \\\n",
    "                              right_index=True, suffixes=(\"\", \"_60\"))\n",
    "        merge3 = merge2.merge(sku_pred_90[[\"predicted\"]], left_index=True, \\\n",
    "                              right_index=True, suffixes=(\"\", \"_90\"))\n",
    "        merge4 = merge3.merge(sku_pred_max[[\"predicted\"]], left_index=True, \\\n",
    "                              right_index=True, suffixes=(\"\", \"_max\"))\n",
    "        merge4[\"Encoded_SKU_ID\"] = [sku_id] * merge4.shape[0]\n",
    "        print(f\"prediction successful for {sku_id}\")\n",
    "        return(merge4,captured)"
   ]
  },
  {
   "cell_type": "code",
   "execution_count": 37,
   "metadata": {
    "scrolled": true
   },
   "outputs": [
    {
     "name": "stderr",
     "output_type": "stream",
     "text": [
      "\n",
      "\n",
      "  0%|          | 0/30 [00:00<?, ?it/s]\u001b[A\u001b[A\n",
      "\n",
      " 20%|██        | 6/30 [01:07<04:30, 11.26s/it]\u001b[A\u001b[A\n",
      "\n",
      " 30%|███       | 9/30 [02:38<05:57, 17.02s/it]\u001b[A\u001b[A\n",
      "\n",
      " 40%|████      | 12/30 [06:19<10:11, 33.99s/it]\u001b[A\u001b[A\n",
      "\n",
      " 50%|█████     | 15/30 [08:20<08:58, 35.88s/it]\u001b[A\u001b[A\n",
      "\n",
      " 60%|██████    | 18/30 [10:55<08:07, 40.65s/it]\u001b[A\u001b[A\n",
      "\n",
      " 70%|███████   | 21/30 [12:07<05:20, 35.63s/it]\u001b[A\u001b[A\n",
      "\n",
      " 80%|████████  | 24/30 [14:15<03:46, 37.70s/it]\u001b[A\u001b[A\n",
      "\n",
      " 90%|█████████ | 27/30 [15:01<01:32, 30.98s/it]\u001b[A\u001b[A\n",
      "\n",
      "100%|██████████| 30/30 [17:03<00:00, 34.12s/it]\u001b[A\u001b[A\n"
     ]
    }
   ],
   "source": [
    "all_preds = Parallel(n_jobs=3)(delayed(parallel_hmm_function)(sku_id) \\\n",
    "                               for sku_id in tqdm(sku_in_scope.index[:30]))"
   ]
  },
  {
   "cell_type": "code",
   "execution_count": 38,
   "metadata": {},
   "outputs": [
    {
     "name": "stdout",
     "output_type": "stream",
     "text": [
      "\n"
     ]
    }
   ],
   "source": [
    "hmm_result = pd.concat([x[0] for x in all_preds])\n",
    "hmm_result.to_csv(f\"./data/hmm_result_final_0_30.csv\")"
   ]
  }
 ],
 "metadata": {
  "kernelspec": {
   "display_name": "Python 3",
   "language": "python",
   "name": "python3"
  },
  "language_info": {
   "codemirror_mode": {
    "name": "ipython",
    "version": 3
   },
   "file_extension": ".py",
   "mimetype": "text/x-python",
   "name": "python",
   "nbconvert_exporter": "python",
   "pygments_lexer": "ipython3",
   "version": "3.8.5"
  }
 },
 "nbformat": 4,
 "nbformat_minor": 4
}
