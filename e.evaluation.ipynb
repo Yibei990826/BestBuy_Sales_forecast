{
 "cells": [
  {
   "cell_type": "code",
   "execution_count": 2,
   "metadata": {},
   "outputs": [],
   "source": [
    "import sys\n",
    "import matplotlib\n",
    "import numpy as np\n",
    "import pandas as pd\n",
    "import matplotlib.pyplot as plt\n",
    "import datetime\n",
    "\n",
    "sys.version\n",
    "\n",
    "sys.path.append(\"../../\")\n",
    "\n",
    "# from src.ad_hmm import sku_predict\n",
    "# from src.ad_stl_model import stl_model\n",
    "from src.utils import *"
   ]
  },
  {
   "cell_type": "code",
   "execution_count": 3,
   "metadata": {},
   "outputs": [],
   "source": [
    "%load_ext autoreload \n",
    "%autoreload 2"
   ]
  },
  {
   "cell_type": "markdown",
   "metadata": {},
   "source": [
    "### y-actual"
   ]
  },
  {
   "cell_type": "code",
   "execution_count": 4,
   "metadata": {},
   "outputs": [
    {
     "data": {
      "text/html": [
       "<div>\n",
       "<style scoped>\n",
       "    .dataframe tbody tr th:only-of-type {\n",
       "        vertical-align: middle;\n",
       "    }\n",
       "\n",
       "    .dataframe tbody tr th {\n",
       "        vertical-align: top;\n",
       "    }\n",
       "\n",
       "    .dataframe thead th {\n",
       "        text-align: right;\n",
       "    }\n",
       "</style>\n",
       "<table border=\"1\" class=\"dataframe\">\n",
       "  <thead>\n",
       "    <tr style=\"text-align: right;\">\n",
       "      <th></th>\n",
       "      <th>Encoded_SKU_ID</th>\n",
       "      <th>SALES_DATE</th>\n",
       "      <th>actual</th>\n",
       "    </tr>\n",
       "  </thead>\n",
       "  <tbody>\n",
       "    <tr>\n",
       "      <th>0</th>\n",
       "      <td>23</td>\n",
       "      <td>2022-08-06</td>\n",
       "      <td>3</td>\n",
       "    </tr>\n",
       "    <tr>\n",
       "      <th>1</th>\n",
       "      <td>100</td>\n",
       "      <td>2022-08-02</td>\n",
       "      <td>2</td>\n",
       "    </tr>\n",
       "    <tr>\n",
       "      <th>2</th>\n",
       "      <td>121</td>\n",
       "      <td>2022-08-06</td>\n",
       "      <td>6</td>\n",
       "    </tr>\n",
       "    <tr>\n",
       "      <th>3</th>\n",
       "      <td>207</td>\n",
       "      <td>2022-08-03</td>\n",
       "      <td>0</td>\n",
       "    </tr>\n",
       "    <tr>\n",
       "      <th>4</th>\n",
       "      <td>416</td>\n",
       "      <td>2022-08-05</td>\n",
       "      <td>9</td>\n",
       "    </tr>\n",
       "  </tbody>\n",
       "</table>\n",
       "</div>"
      ],
      "text/plain": [
       "   Encoded_SKU_ID SALES_DATE  actual\n",
       "0              23 2022-08-06       3\n",
       "1             100 2022-08-02       2\n",
       "2             121 2022-08-06       6\n",
       "3             207 2022-08-03       0\n",
       "4             416 2022-08-05       9"
      ]
     },
     "execution_count": 4,
     "metadata": {},
     "output_type": "execute_result"
    }
   ],
   "source": [
    "original_validation = pd.read_excel(\"../../data/Validation_Data.xlsx\").drop_duplicates()\n",
    "y_act = original_validation[[\"Encoded_SKU_ID\",\"SALES_DATE\",\"DAILY_UNITS\"]].rename(columns = {\"DAILY_UNITS\":\"actual\"})\n",
    "y_act.head()"
   ]
  },
  {
   "cell_type": "markdown",
   "metadata": {},
   "source": [
    "###  Read all predictions"
   ]
  },
  {
   "cell_type": "code",
   "execution_count": 5,
   "metadata": {},
   "outputs": [
    {
     "data": {
      "text/plain": [
       "539"
      ]
     },
     "execution_count": 5,
     "metadata": {},
     "output_type": "execute_result"
    }
   ],
   "source": [
    "#y_null\n",
    "y_pred_null = pd.read_csv(\"../../results/null_model_results_final.csv\",index_col=0)\n",
    "y_pred_null[\"SALES_DATE\"] = pd.to_datetime(y_pred_null[\"SALES_DATE\"])\n",
    "y_pred_null.Encoded_SKU_ID.nunique()"
   ]
  },
  {
   "cell_type": "code",
   "execution_count": 7,
   "metadata": {},
   "outputs": [
    {
     "data": {
      "text/plain": [
       "41"
      ]
     },
     "execution_count": 7,
     "metadata": {},
     "output_type": "execute_result"
    }
   ],
   "source": [
    "#y_holt\n",
    "y_pred_holt = pd.read_csv(\"../../results/holt_rst_final_02.csv\",index_col=0)\n",
    "y_pred_holt[\"SALES_DATE\"] = pd.to_datetime(y_pred_holt[\"SALES_DATE\"])\n",
    "y_pred_holt.Encoded_SKU_ID.nunique()"
   ]
  },
  {
   "cell_type": "code",
   "execution_count": 10,
   "metadata": {},
   "outputs": [
    {
     "data": {
      "text/plain": [
       "300"
      ]
     },
     "execution_count": 10,
     "metadata": {},
     "output_type": "execute_result"
    }
   ],
   "source": [
    "#y_hmm\n",
    "y_pred_hmm = pd.read_csv(\"../../results/hmm_result_final_all2.csv\").drop(columns=[\"Unnamed: 0\"])\n",
    "y_pred_hmm[\"SALES_DATE\"] = pd.to_datetime(y_pred_hmm[\"SALES_DATE\"])\n",
    "y_pred_hmm.Encoded_SKU_ID.nunique()"
   ]
  },
  {
   "cell_type": "code",
   "execution_count": 12,
   "metadata": {},
   "outputs": [
    {
     "name": "stderr",
     "output_type": "stream",
     "text": [
      "Importing plotly failed. Interactive plots will not work.\n"
     ]
    },
    {
     "data": {
      "text/plain": [
       "219"
      ]
     },
     "execution_count": 12,
     "metadata": {},
     "output_type": "execute_result"
    }
   ],
   "source": [
    "#y_prophet_stl\n",
    "import pickle\n",
    "with open('../../data/stl_prophet_final_results_127sku2.pkl', 'rb') as f:\n",
    "    all_preds = pickle.load(f)\n",
    "    \n",
    "y_pred_prophet_stl_mstl = pd.DataFrame()\n",
    "for i in range(len(all_preds)):\n",
    "    if all_preds[i]!= None:\n",
    "        y_pred_prophet_stl_mstl = pd.concat([y_pred_prophet_stl_mstl,all_preds[i][1]])\n",
    "y_pred_prophet_stl_mstl = y_pred_prophet_stl_mstl.reset_index().drop(columns=[\"actual\"])\n",
    "y_pred_prophet_stl_mstl[\"SALES_DATE\"] = pd.to_datetime(y_pred_prophet_stl_mstl[\"SALES_DATE\"])\n",
    "y_pred_prophet_stl_mstl.Encoded_SKU_ID.nunique()"
   ]
  },
  {
   "cell_type": "code",
   "execution_count": 14,
   "metadata": {},
   "outputs": [],
   "source": [
    "y_pred_stl = y_pred_prophet_stl_mstl[[\"SALES_DATE\",\"STL_prediction\",\"Encoded_SKU_ID\"\\\n",
    "                        ]].rename(columns={\"STL_prediction\":\"predicted\"})\n",
    "\n",
    "y_pred_mstl = y_pred_prophet_stl_mstl[[\"SALES_DATE\",\"MSTL_prediction\",\"Encoded_SKU_ID\"\\\n",
    "                        ]].rename(columns={\"MSTL_prediction\":\"predicted\"})\n",
    "\n",
    "y_pred_prophet = y_pred_prophet_stl_mstl[[\"SALES_DATE\",\"prophet_prediction\",\"Encoded_SKU_ID\"\\\n",
    "                        ]].rename(columns={\"prophet_prediction\":\"predicted\"})"
   ]
  },
  {
   "cell_type": "markdown",
   "metadata": {},
   "source": [
    "### Merge all predictions"
   ]
  },
  {
   "cell_type": "code",
   "execution_count": 15,
   "metadata": {
    "scrolled": true
   },
   "outputs": [
    {
     "name": "stdout",
     "output_type": "stream",
     "text": [
      "null 539\n",
      "stl 219\n",
      "mstl 219\n",
      "holt 41\n",
      "hmm 300\n",
      "prophet 219\n"
     ]
    }
   ],
   "source": [
    "print(\"null\",y_pred_null[\"Encoded_SKU_ID\"].nunique())\n",
    "print(\"stl\",y_pred_stl[\"Encoded_SKU_ID\"].nunique())\n",
    "print(\"mstl\",y_pred_mstl[\"Encoded_SKU_ID\"].nunique())\n",
    "print(\"holt\",y_pred_holt[\"Encoded_SKU_ID\"].nunique())\n",
    "print(\"hmm\",y_pred_hmm[\"Encoded_SKU_ID\"].nunique())\n",
    "print(\"prophet\",y_pred_prophet[\"Encoded_SKU_ID\"].nunique())"
   ]
  },
  {
   "cell_type": "code",
   "execution_count": 17,
   "metadata": {},
   "outputs": [
    {
     "data": {
      "text/html": [
       "<div>\n",
       "<style scoped>\n",
       "    .dataframe tbody tr th:only-of-type {\n",
       "        vertical-align: middle;\n",
       "    }\n",
       "\n",
       "    .dataframe tbody tr th {\n",
       "        vertical-align: top;\n",
       "    }\n",
       "\n",
       "    .dataframe thead th {\n",
       "        text-align: right;\n",
       "    }\n",
       "</style>\n",
       "<table border=\"1\" class=\"dataframe\">\n",
       "  <thead>\n",
       "    <tr style=\"text-align: right;\">\n",
       "      <th></th>\n",
       "      <th>SALES_DATE</th>\n",
       "      <th>predicted_15</th>\n",
       "      <th>predicted_30</th>\n",
       "      <th>predicted_45</th>\n",
       "      <th>predicted_60</th>\n",
       "      <th>predicted_90</th>\n",
       "      <th>predicted_max</th>\n",
       "      <th>Encoded_SKU_ID</th>\n",
       "      <th>STL_prediction</th>\n",
       "      <th>MSTL_prediction</th>\n",
       "      <th>prophet_prediction</th>\n",
       "      <th>predicted_null</th>\n",
       "      <th>predicted_holt</th>\n",
       "    </tr>\n",
       "  </thead>\n",
       "  <tbody>\n",
       "    <tr>\n",
       "      <th>0</th>\n",
       "      <td>2022-08-01</td>\n",
       "      <td>3.00</td>\n",
       "      <td>3.00</td>\n",
       "      <td>3.00</td>\n",
       "      <td>3.00</td>\n",
       "      <td>2.00</td>\n",
       "      <td>3.00</td>\n",
       "      <td>1</td>\n",
       "      <td>NaN</td>\n",
       "      <td>NaN</td>\n",
       "      <td>NaN</td>\n",
       "      <td>1</td>\n",
       "      <td>NaN</td>\n",
       "    </tr>\n",
       "    <tr>\n",
       "      <th>1</th>\n",
       "      <td>2022-08-01</td>\n",
       "      <td>1.55</td>\n",
       "      <td>0.45</td>\n",
       "      <td>0.45</td>\n",
       "      <td>0.45</td>\n",
       "      <td>2.00</td>\n",
       "      <td>1.00</td>\n",
       "      <td>1</td>\n",
       "      <td>NaN</td>\n",
       "      <td>NaN</td>\n",
       "      <td>NaN</td>\n",
       "      <td>1</td>\n",
       "      <td>NaN</td>\n",
       "    </tr>\n",
       "    <tr>\n",
       "      <th>2</th>\n",
       "      <td>2022-08-01</td>\n",
       "      <td>1.55</td>\n",
       "      <td>1.55</td>\n",
       "      <td>1.00</td>\n",
       "      <td>2.00</td>\n",
       "      <td>2.00</td>\n",
       "      <td>2.00</td>\n",
       "      <td>1</td>\n",
       "      <td>NaN</td>\n",
       "      <td>NaN</td>\n",
       "      <td>NaN</td>\n",
       "      <td>1</td>\n",
       "      <td>NaN</td>\n",
       "    </tr>\n",
       "    <tr>\n",
       "      <th>3</th>\n",
       "      <td>2022-08-01</td>\n",
       "      <td>3.00</td>\n",
       "      <td>3.00</td>\n",
       "      <td>2.00</td>\n",
       "      <td>3.00</td>\n",
       "      <td>1.45</td>\n",
       "      <td>0.45</td>\n",
       "      <td>1</td>\n",
       "      <td>NaN</td>\n",
       "      <td>NaN</td>\n",
       "      <td>NaN</td>\n",
       "      <td>1</td>\n",
       "      <td>NaN</td>\n",
       "    </tr>\n",
       "    <tr>\n",
       "      <th>4</th>\n",
       "      <td>2022-08-01</td>\n",
       "      <td>1.00</td>\n",
       "      <td>0.00</td>\n",
       "      <td>0.00</td>\n",
       "      <td>2.00</td>\n",
       "      <td>2.00</td>\n",
       "      <td>2.00</td>\n",
       "      <td>1</td>\n",
       "      <td>NaN</td>\n",
       "      <td>NaN</td>\n",
       "      <td>NaN</td>\n",
       "      <td>1</td>\n",
       "      <td>NaN</td>\n",
       "    </tr>\n",
       "  </tbody>\n",
       "</table>\n",
       "</div>"
      ],
      "text/plain": [
       "  SALES_DATE  predicted_15  predicted_30  predicted_45  predicted_60  \\\n",
       "0 2022-08-01          3.00          3.00          3.00          3.00   \n",
       "1 2022-08-01          1.55          0.45          0.45          0.45   \n",
       "2 2022-08-01          1.55          1.55          1.00          2.00   \n",
       "3 2022-08-01          3.00          3.00          2.00          3.00   \n",
       "4 2022-08-01          1.00          0.00          0.00          2.00   \n",
       "\n",
       "   predicted_90  predicted_max  Encoded_SKU_ID  STL_prediction  \\\n",
       "0          2.00           3.00               1             NaN   \n",
       "1          2.00           1.00               1             NaN   \n",
       "2          2.00           2.00               1             NaN   \n",
       "3          1.45           0.45               1             NaN   \n",
       "4          2.00           2.00               1             NaN   \n",
       "\n",
       "   MSTL_prediction  prophet_prediction  predicted_null  predicted_holt  \n",
       "0              NaN                 NaN               1             NaN  \n",
       "1              NaN                 NaN               1             NaN  \n",
       "2              NaN                 NaN               1             NaN  \n",
       "3              NaN                 NaN               1             NaN  \n",
       "4              NaN                 NaN               1             NaN  "
      ]
     },
     "execution_count": 17,
     "metadata": {},
     "output_type": "execute_result"
    }
   ],
   "source": [
    "all_predictions = y_pred_hmm.merge(y_pred_prophet_stl_mstl,on=[\"Encoded_SKU_ID\",\"SALES_DATE\"],how=\"outer\"\\\n",
    "                                            ).merge(y_pred_null,on=[\"Encoded_SKU_ID\",\"SALES_DATE\"],how=\"outer\",\\\n",
    "                                                   suffixes = (\"_15\",\"_null\"),\\\n",
    "                                                   ).merge(y_pred_holt1,on=[\"Encoded_SKU_ID\",\"SALES_DATE\"],how=\"outer\"\\\n",
    "                                                          ,suffixes=(\"\",\"_holt\")).drop_duplicates()\n",
    "all_predictions.head()"
   ]
  },
  {
   "cell_type": "markdown",
   "metadata": {},
   "source": [
    "### RMSE"
   ]
  },
  {
   "cell_type": "code",
   "execution_count": 18,
   "metadata": {},
   "outputs": [
    {
     "name": "stdout",
     "output_type": "stream",
     "text": [
      "(6.59603916258372, 2.2094858172197425)\n"
     ]
    }
   ],
   "source": [
    "rmse_val_null,rmse_val_models = rmse(y_act,y_pred_null),rmse(y_act,all_predictions)\n",
    "rmse_val_null,rmse_val_models"
   ]
  }
 ],
 "metadata": {
  "kernelspec": {
   "display_name": "Python 3",
   "language": "python",
   "name": "python3"
  },
  "language_info": {
   "codemirror_mode": {
    "name": "ipython",
    "version": 3
   },
   "file_extension": ".py",
   "mimetype": "text/x-python",
   "name": "python",
   "nbconvert_exporter": "python",
   "pygments_lexer": "ipython3",
   "version": "3.8.5"
  }
 },
 "nbformat": 4,
 "nbformat_minor": 5
}
